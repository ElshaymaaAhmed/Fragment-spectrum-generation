{
 "cells": [
  {
   "cell_type": "markdown",
   "id": "26a337d3",
   "metadata": {},
   "source": [
    "# Fragment spectrum generation\n",
    "#### Generating theoretical fragment spectra is central to many identification tasks in computational mass spectrometry. \n",
    "#### \"TheoreticalSpectrumGenerator\" can be configured to generate tandem MS spectra from a given peptide charge combination. \n",
    "#### There are various parameters which influence the generated ions e.g. simulating different fragmentation techniques."
   ]
  },
  {
   "cell_type": "markdown",
   "id": "9b2c45b9",
   "metadata": {},
   "source": [
    "### First\n",
    "### 1) Download uniprot-organism-yes.fasta from Uniprot.\n",
    "### 2) Read uniprot-organism-yes.fasta.\n",
    "### 3) Proteolytic Digestion with Trypsin"
   ]
  },
  {
   "cell_type": "code",
   "execution_count": 6,
   "id": "fe3c5947",
   "metadata": {},
   "outputs": [
    {
     "name": "stdout",
     "output_type": "stream",
     "text": [
      "MNGPVDGLCDHSLSEGVFMFTSESVGEGHPDK\n"
     ]
    }
   ],
   "source": [
    "# import module\n",
    "from pyopenms import *\n",
    "\n",
    "dig = ProteaseDigestion()\n",
    "dig.getEnzymeName() # Trypsin\n",
    "\n",
    "# Read all Fasta File Record\n",
    "bsa = \"\".join([l.strip() for l in open(\"uniprot-organism-yes.fasta\").readlines() if l.startswith('>') == False])\n",
    "\n",
    "# Converet to amino acid\n",
    "bsa = AASequence.fromString(bsa)\n",
    "\n",
    "# create all digestion products\n",
    "result = []\n",
    "dig.digest(bsa, result)\n",
    "\n",
    "print(result[0].toString())"
   ]
  },
  {
   "cell_type": "markdown",
   "id": "a61948f3",
   "metadata": {},
   "source": [
    "## Y-ion spectrum\n",
    "\n",
    "### Then, we will generate a simple spectrum that only contains y-ions as Following:"
   ]
  },
  {
   "cell_type": "code",
   "execution_count": 7,
   "id": "715a9851",
   "metadata": {},
   "outputs": [
    {
     "name": "stdout",
     "output_type": "stream",
     "text": [
      "Spectrum 1 of MNGPVDGLCDHSLSEGVFMFTSESVGEGHPDK has 31 peaks.\n",
      "y1+ is generated at m/z 147.112804913371\n",
      "y2+ is generated at m/z 262.13974907287104\n",
      "y3+ is generated at m/z 359.19251329617106\n",
      "y4+ is generated at m/z 496.25142551947107\n",
      "y5+ is generated at m/z 553.272889615171\n",
      "y6+ is generated at m/z 682.315483838471\n",
      "y7+ is generated at m/z 739.336947934171\n",
      "y8+ is generated at m/z 838.405362221271\n",
      "y9+ is generated at m/z 925.437391380771\n",
      "y10+ is generated at m/z 1054.479985604071\n",
      "y11+ is generated at m/z 1141.5120147635712\n",
      "y12+ is generated at m/z 1242.5596939868713\n",
      "y13+ is generated at m/z 1389.6281082739713\n",
      "y14+ is generated at m/z 1520.6685932910711\n",
      "y15+ is generated at m/z 1667.7370075781712\n",
      "y16+ is generated at m/z 1766.8054218652712\n",
      "y17+ is generated at m/z 1823.8268859609711\n",
      "y18+ is generated at m/z 1952.8694801842712\n",
      "y19+ is generated at m/z 2039.9015093437713\n",
      "y20+ is generated at m/z 2152.9855736946715\n",
      "y21+ is generated at m/z 2240.0176028541714\n",
      "y22+ is generated at m/z 2377.0765150774714\n",
      "y23+ is generated at m/z 2492.1034592369715\n",
      "y24+ is generated at m/z 2595.1126441264714\n",
      "y25+ is generated at m/z 2708.1967084773714\n",
      "y26+ is generated at m/z 2765.2181725730716\n",
      "y27+ is generated at m/z 2880.2451167325717\n",
      "y28+ is generated at m/z 2979.3135310196717\n",
      "y29+ is generated at m/z 3076.366295242972\n",
      "y30+ is generated at m/z 3133.387759338672\n",
      "y31+ is generated at m/z 3247.4306875300717\n"
     ]
    }
   ],
   "source": [
    "tsg = TheoreticalSpectrumGenerator()\n",
    "spec1 = MSSpectrum() \n",
    "peptide = result[0] # MNGPVDGLCDHSLSEGVFMFTSESVGEGHPDK\n",
    "\n",
    "# standard behavior is adding b- and y-ions of charge 1\n",
    "p = Param()\n",
    "p.setValue(\"add_b_ions\", \"false\")\n",
    "p.setValue(\"add_metainfo\", \"true\")\n",
    "\n",
    "tsg.setParameters(p)\n",
    "tsg.getSpectrum(spec1, peptide, 1, 1) # charge range 1:1\n",
    "\n",
    "# Iterate over annotated ions and their masses\n",
    "print(\"Spectrum 1 of\", peptide, \"has\", spec1.size(), \"peaks.\")\n",
    "for ion, peak in zip(spec1.getStringDataArrays()[0], spec1):\n",
    "    print(ion.decode(), \"is generated at m/z\", peak.getMZ())"
   ]
  },
  {
   "cell_type": "markdown",
   "id": "be904029",
   "metadata": {},
   "source": [
    "### we could plot the output with adding the ion names as following: "
   ]
  },
  {
   "cell_type": "code",
   "execution_count": 8,
   "id": "180c7fbc",
   "metadata": {},
   "outputs": [
    {
     "data": {
      "text/plain": [
       "Text(0, 0.5, 'intensity')"
      ]
     },
     "execution_count": 8,
     "metadata": {},
     "output_type": "execute_result"
    },
    {
     "data": {
      "image/png": "[encoded data removed]",
      "text/plain": [
       "<Figure size 432x288 with 1 Axes>"
      ]
     },
     "metadata": {
      "needs_background": "light"
     },
     "output_type": "display_data"
    }
   ],
   "source": [
    "# import module\n",
    "import matplotlib.pyplot as plt\n",
    "\n",
    "mz,i = spec1.get_peaks()\n",
    "annot = spec1.getStringDataArrays()[0]\n",
    "bars = plt.bar(mz, i, snap=False) # snap ensures that all bars are rendered\n",
    "idx = 0\n",
    "\n",
    "for rect in bars:\n",
    "    height = rect.get_height()\n",
    "    plt.text(rect.get_x() + rect.get_width() / 2.0, height, annot[idx].decode(), ha='center', va='bottom', rotation=90)\n",
    "    idx += 1\n",
    "    \n",
    "plt.ylim(top=1.2)\n",
    "plt.xlabel(\"m/z\")\n",
    "plt.ylabel(\"intensity\")"
   ]
  },
  {
   "cell_type": "code",
   "execution_count": null,
   "id": "3c0cd2cf",
   "metadata": {},
   "outputs": [],
   "source": []
  }
 ],
 "metadata": {
  "kernelspec": {
   "display_name": "Python 3",
   "language": "python",
   "name": "python3"
  },
  "language_info": {
   "codemirror_mode": {
    "name": "ipython",
    "version": 3
   },
   "file_extension": ".py",
   "mimetype": "text/x-python",
   "name": "python",
   "nbconvert_exporter": "python",
   "pygments_lexer": "ipython3",
   "version": "3.8.8"
  }
 },
 "nbformat": 4,
 "nbformat_minor": 5
}
